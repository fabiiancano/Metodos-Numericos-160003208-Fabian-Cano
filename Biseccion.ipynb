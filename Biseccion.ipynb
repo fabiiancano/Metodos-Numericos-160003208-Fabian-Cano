{
 "cells": [
  {
   "cell_type": "markdown",
   "metadata": {},
   "source": [
    "# Metodo de la Biseccion"
   ]
  },
  {
   "cell_type": "code",
   "execution_count": 32,
   "metadata": {
    "collapsed": false
   },
   "outputs": [
    {
     "name": "stdout",
     "output_type": "stream",
     "text": [
      "-0.632120558829\n",
      "La raiz de la funcion es: 0.567143\n"
     ]
    }
   ],
   "source": [
    "import math\n",
    "\n",
    "xl = 1\n",
    "xu = 0\n",
    "\n",
    "def funcion(x):\n",
    "    ecuacion = ((math.exp(-x))-x)\n",
    "    return ecuacion\n",
    "\n",
    "def condicion():\n",
    "    condicion = funcion(xl)*funcion(xu)\n",
    "    print condicion\n",
    "    \n",
    "def aproximacion():\n",
    "    xl = 1\n",
    "    xu = 0\n",
    "    for x in xrange(53):\n",
    "        xr = (xl + xu)*0.5\n",
    "        if (funcion(xl)*funcion(xr) < 0):\n",
    "            xu = xr\n",
    "        elif (funcion(xl)*funcion(xr) > 0):\n",
    "            xl = xr\n",
    "        elif (funcion(xl)*funcion(xr) == 0):\n",
    "            print (\"La raiz de la funcion es: %f\") % xr\n",
    "\n",
    "condicion()\n",
    "aproximacion()"
   ]
  },
  {
   "cell_type": "code",
   "execution_count": null,
   "metadata": {
    "collapsed": true
   },
   "outputs": [],
   "source": []
  }
 ],
 "metadata": {
  "kernelspec": {
   "display_name": "Python 2",
   "language": "python",
   "name": "python2"
  },
  "language_info": {
   "codemirror_mode": {
    "name": "ipython",
    "version": 2
   },
   "file_extension": ".py",
   "mimetype": "text/x-python",
   "name": "python",
   "nbconvert_exporter": "python",
   "pygments_lexer": "ipython2",
   "version": "2.7.10"
  }
 },
 "nbformat": 4,
 "nbformat_minor": 0
}
