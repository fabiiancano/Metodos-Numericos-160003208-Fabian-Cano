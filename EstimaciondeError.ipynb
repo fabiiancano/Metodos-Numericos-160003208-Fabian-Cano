{
 "cells": [
  {
   "cell_type": "markdown",
   "metadata": {},
   "source": [
    "# Estimacion del error de la funcion e^x cuando x = 0.5 mediante la expansion de la Serie de Maclaurim con un criterio de error del 0.05%"
   ]
  },
  {
   "cell_type": "code",
   "execution_count": 27,
   "metadata": {
    "collapsed": false
   },
   "outputs": [
    {
     "name": "stdout",
     "output_type": "stream",
     "text": [
      "Terminos    Resultado    ERelativo    EAbsoluto\n",
      "   1        1.000000     39.346934     100.000000\n",
      "   2        1.500000     9.020401     33.333333\n",
      "   3        1.625000     1.438768     7.692308\n",
      "   4        1.645833     0.175162     1.265823\n",
      "   5        1.648438     0.017212     0.157978\n",
      "   6        1.648698     0.001416     0.015795\n"
     ]
    }
   ],
   "source": [
    "import math\n",
    "\n",
    "num = 0.5\n",
    "valor = 0\n",
    "valorReal = math.exp(num)\n",
    "\n",
    "print (\"Terminos    Resultado    ERelativo    EAbsoluto\")\n",
    "\n",
    "def valorAprox():\n",
    "    cont = 0\n",
    "    ant = 0\n",
    "    sig = 0\n",
    "    errorA = 1\n",
    "    errorR = 0\n",
    "    while errorA >= 0.05:\n",
    "        valor = (num**cont)/math.factorial(cont)\n",
    "        sig = valor + sig\n",
    "        errorA = ((sig - ant)/sig)*100\n",
    "        errorR = ((valorReal - sig)/valorReal)*100\n",
    "        cont = cont + 1\n",
    "        mostrar(cont, sig, errorR, errorA)\n",
    "        ant = sig\n",
    "\n",
    "def mostrar(cont, sig, errorR, errorA):\n",
    "    print (\"   %d        %f     %f     %f\") % (cont, sig, errorR, errorA)\n",
    "    \n",
    "valorAprox()"
   ]
  },
  {
   "cell_type": "code",
   "execution_count": null,
   "metadata": {
    "collapsed": true
   },
   "outputs": [],
   "source": []
  }
 ],
 "metadata": {
  "kernelspec": {
   "display_name": "Python 2",
   "language": "python",
   "name": "python2"
  },
  "language_info": {
   "codemirror_mode": {
    "name": "ipython",
    "version": 2
   },
   "file_extension": ".py",
   "mimetype": "text/x-python",
   "name": "python",
   "nbconvert_exporter": "python",
   "pygments_lexer": "ipython2",
   "version": "2.7.10"
  }
 },
 "nbformat": 4,
 "nbformat_minor": 0
}
