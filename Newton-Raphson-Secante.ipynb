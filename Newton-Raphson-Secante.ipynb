{
 "cells": [
  {
   "cell_type": "code",
   "execution_count": 16,
   "metadata": {
    "collapsed": false
   },
   "outputs": [
    {
     "name": "stdout",
     "output_type": "stream",
     "text": [
      "Metodo de Newton - Raphson\n",
      "\n",
      "i\t   xi\t\t   Ea\t\t   Et\t\t Verdad\n",
      "0\t0.000000\t0.500000\t100.000000\t1.000000\n",
      "1\t0.500000\t0.459780\t11.709291\t0.106531\n",
      "2\t0.566311\t0.565839\t0.146729\t0.001305\n",
      "3\t0.567143\t0.567143\t0.000022\t0.000000\n",
      "4\t0.567143\t0.567143\t0.000000\t0.000000\n",
      "\n",
      "Metodo de la Secante\n",
      "\n",
      "i\t   xi\t\t   Ea\t\t   Et\t\t Verdad\n",
      "0\t1.000000\t1.244820\t63.212056\t-0.632121\n",
      "1\t0.612700\t0.634652\t8.665860\t-0.070814\n",
      "2\t0.563838\t0.561988\t0.587472\t0.005182\n",
      "3\t0.567170\t0.567186\t0.004770\t-0.000042\n",
      "4\t0.567143\t0.567143\t0.000003\t-0.000000\n"
     ]
    }
   ],
   "source": [
    "import math\n",
    "import pylab as pl\n",
    "\n",
    "i = []\n",
    "New = []\n",
    "Sec = []\n",
    "\n",
    "def funcion(xi):\n",
    "    return ((math.exp(-(xi)))-xi)\n",
    "    \n",
    "def derivada(xi):\n",
    "    return (-(math.exp(-(xi)))-1)\n",
    "\n",
    "def Newton():\n",
    "    xi = 0\n",
    "    print(\"i\\t   xi\\t\\t   Ea\\t\\t   Et\\t\\t Verdad\")\n",
    "    for loop in xrange(5):\n",
    "        verdad = ((math.exp(-(xi)))-xi)\n",
    "        sig = xi - (funcion(xi)/derivada(xi))\n",
    "        errorA = abs(verdad - sig)\n",
    "        errorP = abs(((sig - xi)/sig)*100)\n",
    "        print(\"%d\\t%f\\t%f\\t%f\\t%f\") % (loop,xi,errorA,errorP,verdad)\n",
    "        i.append(loop)\n",
    "        New.append(errorP)\n",
    "        Verd.append(verdad)\n",
    "        xi = sig\n",
    "        \n",
    "def Secante():\n",
    "    xi = 1\n",
    "    ant = 0\n",
    "    print(\"i\\t   xi\\t\\t   Ea\\t\\t   Et\\t\\t Verdad\")\n",
    "    for loop in xrange(5):\n",
    "        verdad = ((math.exp(-(xi)))-xi)\n",
    "        sig = xi - ((funcion(xi))*(ant - xi))/(funcion(ant)-funcion(xi))\n",
    "        errorA = abs(verdad - sig)\n",
    "        errorP = abs(((sig - xi)/sig)*100)\n",
    "        print(\"%d\\t%f\\t%f\\t%f\\t%f\") % (loop,xi,errorA,errorP,verdad)\n",
    "        Sec.append(errorP)\n",
    "        ant = xi\n",
    "        xi = sig\n",
    "\n",
    "print(\"Metodo de Newton - Raphson\\n\")\n",
    "Newton()\n",
    "print(\"\\nMetodo de la Secante\\n\")\n",
    "Secante()\n",
    "\n",
    "pl.grid(True)\n",
    "pl.plot(i, New, 'k', label = \"Newton\")\n",
    "pl.plot(i, Sec, 'g', label = \"Secante\")\n",
    "pl.legend(loc='upper right')\n",
    "pl.xlabel(\"Iteracion\")\n",
    "pl.ylabel(\"Error Porcentual\")\n",
    "pl.title(\"Metodo de Newton - Raphson\")\n",
    "pl.show()"
   ]
  },
  {
   "cell_type": "code",
   "execution_count": null,
   "metadata": {
    "collapsed": true
   },
   "outputs": [],
   "source": []
  }
 ],
 "metadata": {
  "kernelspec": {
   "display_name": "Python 2",
   "language": "python",
   "name": "python2"
  },
  "language_info": {
   "codemirror_mode": {
    "name": "ipython",
    "version": 2
   },
   "file_extension": ".py",
   "mimetype": "text/x-python",
   "name": "python",
   "nbconvert_exporter": "python",
   "pygments_lexer": "ipython2",
   "version": "2.7.10"
  }
 },
 "nbformat": 4,
 "nbformat_minor": 0
}
