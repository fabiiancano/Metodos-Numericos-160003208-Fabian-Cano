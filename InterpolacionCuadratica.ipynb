{
 "cells": [
  {
   "cell_type": "markdown",
   "metadata": {},
   "source": [
    "# Interpolacion cuadrática del Logaritmo de X"
   ]
  },
  {
   "cell_type": "code",
   "execution_count": 16,
   "metadata": {
    "collapsed": false
   },
   "outputs": [
    {
     "name": "stdout",
     "output_type": "stream",
     "text": [
      "El valor de la funcion en X = 1 es: 0.000000\n",
      "El valor de la funcion en X = 2 es: 0.565844\n",
      "El valor de la funcion en X = 3 es: 1.027942\n",
      "El valor de la funcion en X = 4 es: 1.386294\n",
      "El valor de la funcion en X = 5 es: 1.640900\n",
      "El valor de la funcion en X = 6 es: 1.791760\n"
     ]
    }
   ],
   "source": [
    "import math\n",
    "import numpy as np\n",
    "import pylab as pl\n",
    "\n",
    "X = [1,2,3,4,5,6]\n",
    "v = [0,7,-0.5,2]\n",
    "T = np.linspace(1.0, 6.0, num=100)\n",
    "Log = []\n",
    "Log2 = []\n",
    "Func = []\n",
    "\n",
    "def InterpolacionCuadratica():\n",
    "    x0 = 1\n",
    "    x1 = 4\n",
    "    x2 = 6\n",
    "    for i in X:\n",
    "        funcion = math.log(i)\n",
    "        if(x0<=6):\n",
    "            b0 = (math.log(x0))\n",
    "            b1 = ((math.log(x1)-math.log(x0))/(x1-x0))\n",
    "            b2 = (((math.log(x2) - math.log(x1))/(x2-x1)) - ((math.log(x1) - math.log(x0))/(x1-x0)))/(x2-x0)\n",
    "            Fx = ((0.4620981*(i-1)) - (0.0518731*(i-1)*(i-4)))\n",
    "            x0 = x0 + 1\n",
    "            x1 = x1 + 1\n",
    "            x2 = x2 + 1\n",
    "        print (\"El valor de la funcion en X = %d es: %f\") % (i, Fx)\n",
    "        Log.append(funcion)\n",
    "        Log2.append(Fx)\n",
    "        \n",
    "def Funcion():\n",
    "    for i in T:\n",
    "        Func.append(math.log(i))\n",
    "      \n",
    "InterpolacionCuadratica()\n",
    "Funcion()\n",
    "\n",
    "pl.plot(X, Log2, '--', label = \"Interpolacion Cuadratica\")\n",
    "pl.plot(t, Func, label = \"Funcion\")\n",
    "pl.plot(X, Log, 'o')\n",
    "pl.legend(loc = \"lower right\")\n",
    "pl.title(\"Interpolacion Cuadratica\")\n",
    "pl.xlabel(\"Valor de X\")\n",
    "pl.ylabel(\"Logaritmo Natural\")\n",
    "pl.grid(True)\n",
    "pl.axis(v)\n",
    "pl.show()"
   ]
  },
  {
   "cell_type": "code",
   "execution_count": null,
   "metadata": {
    "collapsed": true
   },
   "outputs": [],
   "source": []
  }
 ],
 "metadata": {
  "kernelspec": {
   "display_name": "Python 2",
   "language": "python",
   "name": "python2"
  },
  "language_info": {
   "codemirror_mode": {
    "name": "ipython",
    "version": 2
   },
   "file_extension": ".py",
   "mimetype": "text/x-python",
   "name": "python",
   "nbconvert_exporter": "python",
   "pygments_lexer": "ipython2",
   "version": "2.7.10"
  }
 },
 "nbformat": 4,
 "nbformat_minor": 0
}
