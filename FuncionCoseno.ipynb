{
 "cells": [
  {
   "cell_type": "markdown",
   "metadata": {},
   "source": [
    "# Uso de la expansión de la serie de Taylor para aproximar una función con un número infinito de derivadas"
   ]
  },
  {
   "cell_type": "code",
   "execution_count": 12,
   "metadata": {
    "collapsed": false
   },
   "outputs": [
    {
     "name": "stdout",
     "output_type": "stream",
     "text": [
      "El valor de la funcion es: 0.500000\n",
      "Orden n       Faprox           ERelativo\n",
      "  0           0.707107         -41.421356\n",
      "  1           0.521987         -4.397332\n",
      "  2           0.497754         0.449102\n",
      "  3           0.499869         0.026171\n",
      "  4           0.500008         -0.001510\n",
      "  5           0.500000         -0.000061\n",
      "  6           0.500000         0.000002\n"
     ]
    }
   ],
   "source": [
    "import math\n",
    "\n",
    "funcion = 0\n",
    "valorReal = 0\n",
    "errorR = 0\n",
    "h = math.pi/12\n",
    "x = math.pi/4\n",
    "xsig = math.pi/3\n",
    "\n",
    "valorReal = math.cos(xsig)\n",
    "print(\"El valor de la funcion es: %f\") % valorReal\n",
    "print(\"Orden n       Faprox           ERelativo\")\n",
    "\n",
    "def mostrar(orden, funcion, errorR):\n",
    "    print(\"  %d           %f         %f\") % (orden, funcion, errorR)\n",
    "\n",
    "def faprox():\n",
    "    aux = 0\n",
    "    orden = 0\n",
    "    funcion = math.cos(x)\n",
    "    errorR = ((valorReal - funcion)/valorReal)*100\n",
    "    mostrar(orden, funcion, errorR)\n",
    "    orden = orden + 1\n",
    "    funcion = (math.cos(x))-(math.sin(x)*h)\n",
    "    errorR = ((valorReal - funcion)/valorReal)*100\n",
    "    mostrar(orden, funcion, errorR)\n",
    "    orden = orden + 1\n",
    "    funcion = (math.cos(x))-(math.sin(x)*h)-((math.cos(x)*(h**2))/2)\n",
    "    errorR = ((valorReal - funcion)/valorReal)*100\n",
    "    mostrar(orden, funcion, errorR)\n",
    "    orden = orden + 1\n",
    "    funcion = (math.cos(x))-(math.sin(x)*h)-((math.cos(x)*(h**2))/2)+((math.sin(x)*(h**3))/6)\n",
    "    errorR = ((valorReal - funcion)/valorReal)*100\n",
    "    mostrar(orden, funcion, errorR)\n",
    "    orden = orden + 1\n",
    "    funcion = (math.cos(x))-(math.sin(x)*h)-((math.cos(x)*(h**2))/2)+((math.sin(x)*(h**3))/6)+((math.cos(x)*(h**4))/24)\n",
    "    errorR = ((valorReal - funcion)/valorReal)*100\n",
    "    mostrar(orden, funcion, errorR)\n",
    "    orden = orden + 1\n",
    "    funcion = (math.cos(x))-(math.sin(x)*h)-((math.cos(x)*(h**2))/2)+((math.sin(x)*(h**3))/6)+((math.cos(x)*(h**4))/24)-((math.sin(x)*(h**5))/120)\n",
    "    errorR = ((valorReal - funcion)/valorReal)*100\n",
    "    mostrar(orden, funcion, errorR)\n",
    "    orden = orden + 1\n",
    "    funcion = (math.cos(x))-(math.sin(x)*h)-((math.cos(x)*(h**2))/2)+((math.sin(x)*(h**3))/6)+((math.cos(x)*(h**4))/24)-((math.sin(x)*(h**5))/120)-((math.cos(x)*(h**6))/720)\n",
    "    errorR = ((valorReal - funcion)/valorReal)*100\n",
    "    mostrar(orden, funcion, errorR)\n",
    "     \n",
    "faprox()"
   ]
  },
  {
   "cell_type": "code",
   "execution_count": null,
   "metadata": {
    "collapsed": true
   },
   "outputs": [],
   "source": []
  }
 ],
 "metadata": {
  "kernelspec": {
   "display_name": "Python 2",
   "language": "python",
   "name": "python2"
  },
  "language_info": {
   "codemirror_mode": {
    "name": "ipython",
    "version": 2
   },
   "file_extension": ".py",
   "mimetype": "text/x-python",
   "name": "python",
   "nbconvert_exporter": "python",
   "pygments_lexer": "ipython2",
   "version": "2.7.10"
  }
 },
 "nbformat": 4,
 "nbformat_minor": 0
}
