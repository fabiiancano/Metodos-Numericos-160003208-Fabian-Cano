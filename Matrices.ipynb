{
 "cells": [
  {
   "cell_type": "markdown",
   "metadata": {},
   "source": [
    "# Sistema de ecuaciones con dos incognitas"
   ]
  },
  {
   "cell_type": "code",
   "execution_count": 15,
   "metadata": {
    "collapsed": false
   },
   "outputs": [],
   "source": [
    "import pylab as pl\n",
    "\n",
    "Y1 = []\n",
    "Y2 = []\n",
    "X = []\n",
    "x = 0\n",
    "\n",
    "while x <= 5:\n",
    "    y = ((-1.5)*x)+9\n",
    "    Y1.append(y)\n",
    "    y = ((0.5)*x)+1\n",
    "    Y2.append(y)\n",
    "    X.append(x)\n",
    "    x = x + 1\n",
    "    \n",
    "pl.plot(X, Y1)\n",
    "pl.plot(X, Y2)\n",
    "pl.grid()\n",
    "pl.show()"
   ]
  },
  {
   "cell_type": "markdown",
   "metadata": {},
   "source": [
    "# Grafica de sistemas singulares y mal condicionados"
   ]
  },
  {
   "cell_type": "code",
   "execution_count": 20,
   "metadata": {
    "collapsed": false
   },
   "outputs": [],
   "source": [
    "import pylab as pl\n",
    "\n",
    "A1 = []\n",
    "A2 = []\n",
    "A3 = []\n",
    "A4 = []\n",
    "A5 = []\n",
    "A6 = []\n",
    "X1 = []\n",
    "X2 = []\n",
    "X3 = []\n",
    "\n",
    "def primerCaso():\n",
    "    x = 0\n",
    "    while x <= 5:\n",
    "        y = ((0.5)*x)+1\n",
    "        A1.append(y)\n",
    "        y = ((0.5)*x)+0.5\n",
    "        A2.append(y)\n",
    "        X1.append(x)\n",
    "        x = x + 1\n",
    "    graficar(A1, A2, X1)\n",
    "\n",
    "def segundoCaso():\n",
    "    x = 0\n",
    "    while x <= 5:\n",
    "        y = ((0.5)*x)+1\n",
    "        A3.append(y)\n",
    "        y = ((0.5)*x)+1\n",
    "        A4.append(y)\n",
    "        X2.append(x)\n",
    "        x = x + 1\n",
    "    graficar(A3, A4, X2)\n",
    "        \n",
    "def tercerCaso():\n",
    "    x = 0\n",
    "    while x <= 5:\n",
    "        y = ((0.46)*x)+1.1\n",
    "        A5.append(y)\n",
    "        y = ((0.5)*x)+1\n",
    "        A6.append(y)\n",
    "        X3.append(x)\n",
    "        x = x + 1\n",
    "    graficar(A5, A6, X3)\n",
    "\n",
    "def graficar(Z1, Z2, W):\n",
    "    pl.plot(W, Z1)\n",
    "    pl.plot(W, Z2)\n",
    "    pl.grid()\n",
    "    pl.show()\n",
    "\n",
    "primerCaso()\n",
    "segundoCaso()\n",
    "tercerCaso()"
   ]
  },
  {
   "cell_type": "code",
   "execution_count": null,
   "metadata": {
    "collapsed": true
   },
   "outputs": [],
   "source": []
  }
 ],
 "metadata": {
  "kernelspec": {
   "display_name": "Python 2",
   "language": "python",
   "name": "python2"
  },
  "language_info": {
   "codemirror_mode": {
    "name": "ipython",
    "version": 2
   },
   "file_extension": ".py",
   "mimetype": "text/x-python",
   "name": "python",
   "nbconvert_exporter": "python",
   "pygments_lexer": "ipython2",
   "version": "2.7.10"
  }
 },
 "nbformat": 4,
 "nbformat_minor": 0
}
