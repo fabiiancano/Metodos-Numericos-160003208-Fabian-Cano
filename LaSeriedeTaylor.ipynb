{
 "cells": [
  {
   "cell_type": "markdown",
   "metadata": {
    "collapsed": true
   },
   "source": [
    "# Aproximaciones de un polinomio mediante la serie de Taylor"
   ]
  },
  {
   "cell_type": "code",
   "execution_count": 2,
   "metadata": {
    "collapsed": false,
    "scrolled": false
   },
   "outputs": [
    {
     "name": "stdout",
     "output_type": "stream",
     "text": [
      "El valor de la funcion es: 0.20\n",
      "Resultado del orden cero: 1.20\n",
      "Resultado del primer orden: -0.25\n",
      "Resultado del segundo orden: -0.50\n",
      "Resultado del tercero orden: -0.15\n",
      "Resultado del cuarto orden: -0.10\n",
      "La aproximacion total es: 0.20\n"
     ]
    }
   ],
   "source": [
    "funcion = 0\n",
    "h = 1\n",
    "x = 0\n",
    "\n",
    "funcion = -0.1*(h**4)-0.15*(h**3)-0.5*(h**2)-0.25*(h)+1.2\n",
    "print(\"El valor de la funcion es: %.2f\") % funcion\n",
    "\n",
    "def faprox():\n",
    "    aux = 0\n",
    "    funcion = -0.1*(x**4)-0.15*(x**3)-0.5*(x**2)-0.25*(x)+1.2\n",
    "    print(\"Resultado del orden cero: %.2f\") % funcion\n",
    "    aux = funcion + aux\n",
    "    funcion = (-0.4*(x**3)-0.45*(x**2)-(x)-0.25)*h\n",
    "    print(\"Resultado del primer orden: %.2f\") % funcion\n",
    "    aux = funcion + aux\n",
    "    funcion = (((-1.2*(x**2)-0.90*(x)-1)*h**2)/2)\n",
    "    print(\"Resultado del segundo orden: %.2f\") % funcion\n",
    "    aux = funcion + aux\n",
    "    funcion = (((-2.4*(x)-0.90)*h**3)/6)\n",
    "    print(\"Resultado del tercero orden: %.2f\") % funcion\n",
    "    aux = funcion + aux\n",
    "    funcion = (((-2.4)*h**4)/24)\n",
    "    print(\"Resultado del cuarto orden: %.2f\") % funcion\n",
    "    aux = funcion + aux\n",
    "    print(\"La aproximacion total es: %.2f\") % aux \n",
    "     \n",
    "faprox()"
   ]
  },
  {
   "cell_type": "code",
   "execution_count": null,
   "metadata": {
    "collapsed": true
   },
   "outputs": [],
   "source": []
  }
 ],
 "metadata": {
  "kernelspec": {
   "display_name": "Python 2",
   "language": "python",
   "name": "python2"
  },
  "language_info": {
   "codemirror_mode": {
    "name": "ipython",
    "version": 2
   },
   "file_extension": ".py",
   "mimetype": "text/x-python",
   "name": "python",
   "nbconvert_exporter": "python",
   "pygments_lexer": "ipython2",
   "version": "2.7.10"
  }
 },
 "nbformat": 4,
 "nbformat_minor": 0
}
