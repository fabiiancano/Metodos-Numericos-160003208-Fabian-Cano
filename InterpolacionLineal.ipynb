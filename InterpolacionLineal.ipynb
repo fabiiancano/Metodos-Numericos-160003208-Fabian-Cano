{
 "cells": [
  {
   "cell_type": "markdown",
   "metadata": {},
   "source": [
    "# Interpolacion Lineal y Cuadratica Logaritmo natural"
   ]
  },
  {
   "cell_type": "code",
   "execution_count": 2,
   "metadata": {
    "collapsed": false
   },
   "outputs": [
    {
     "name": "stdout",
     "output_type": "stream",
     "text": [
      "Valor Ln en 1: 0.000000\n",
      "Valor Ln en 2: 0.693147\n",
      "Valor Ln en 3: 1.098612\n",
      "Valor Ln en 4: 1.386294\n",
      "Valor Ln en 5: 1.609438\n",
      "Valor Ln en 6: 1.791759\n"
     ]
    }
   ],
   "source": [
    "import pylab as pl\n",
    "import numpy as np\n",
    "\n",
    "X = [1,2,3,4,5,6]\n",
    "Log = []\n",
    "Log2 = []\n",
    "Func = []\n",
    "v = [0,7,-0.5,2]\n",
    "n = 6\n",
    "\n",
    "for i in range(n):\n",
    "    L = np.log(X[i])\n",
    "    Log.append(L)\n",
    "    print (\"Valor Ln en %d: %.6f\") % (i+1, Log[i])\n",
    "    \n",
    "def InterpolacionLineal():\n",
    "    Fx = 0.0\n",
    "    x0 = 0\n",
    "    x1 = 1    \n",
    "    for i in range(6):  \n",
    "        Fx = Log[x0] + (Log[x1] - Log[x0])/(x1 - x0)*(i - x0)        \n",
    "        Func.append(Fx)\n",
    "        Log2.append(np.log(i+1))\n",
    "        if(x1 < 5):\n",
    "            x1 = x1 + 1\n",
    "            x0 = x0 + 1 \n",
    "\n",
    "InterpolacionLineal()\n",
    "\n",
    "pl.plot(X, Log2, 'or', label = \"Logaritmo Natural\")\n",
    "pl.plot(X, Func, 'g', label = \"Interpolacion\")\n",
    "pl.legend(loc = \"lower right\")\n",
    "pl.title(\"Interpolacion Lineal\")\n",
    "pl.xlabel(\"Valor de X\")\n",
    "pl.ylabel(\"Logaritmo Natural\")\n",
    "pl.axis(v)\n",
    "pl.grid(True)\n",
    "pl.show()"
   ]
  },
  {
   "cell_type": "code",
   "execution_count": null,
   "metadata": {
    "collapsed": true
   },
   "outputs": [],
   "source": []
  }
 ],
 "metadata": {
  "kernelspec": {
   "display_name": "Python 2",
   "language": "python",
   "name": "python2"
  },
  "language_info": {
   "codemirror_mode": {
    "name": "ipython",
    "version": 2
   },
   "file_extension": ".py",
   "mimetype": "text/x-python",
   "name": "python",
   "nbconvert_exporter": "python",
   "pygments_lexer": "ipython2",
   "version": "2.7.10"
  }
 },
 "nbformat": 4,
 "nbformat_minor": 0
}
