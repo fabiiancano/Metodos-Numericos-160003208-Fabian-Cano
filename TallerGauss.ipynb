{
 "cells": [
  {
   "cell_type": "markdown",
   "metadata": {},
   "source": [
    "# Ejercicio 9.1"
   ]
  },
  {
   "cell_type": "markdown",
   "metadata": {
    "collapsed": false
   },
   "source": [
    "\\begin{equation}\n",
    "0x_{1} + 2x_{2} + 5x_{3} = 50 \\\\\n",
    "x_{1} + 0x_{2} + x_{3} = 10 \\\\\n",
    "8x_{1} + 3x_{2} + 0x_{3} = 20\n",
    "\\end{equation}\n",
    "\n",
    "\\begin{equation}\n",
    "A = \\left(\n",
    "\\begin{array}{ccc|c}\n",
    "0 & 2 & 5 & 50 \\\\\n",
    "1 & 0 & 1 & 10 \\\\\n",
    "8 & 3 & 0 & 20\n",
    "\\end{array}\n",
    "\\right)\n",
    "\\end{equation}\n",
    "\n",
    "\\begin{equation}\n",
    "A_{}^{T} = \\left(\n",
    "\\begin{array}{ccc|c}\n",
    "0 & 1 & 8 \\\\\n",
    "2 & 0 & 3 \\\\\n",
    "5 & 1 & 0\n",
    "\\end{array}\n",
    "\\right)\n",
    "\\end{equation}"
   ]
  },
  {
   "cell_type": "markdown",
   "metadata": {},
   "source": [
    "# Ejercicio 9.2"
   ]
  },
  {
   "cell_type": "markdown",
   "metadata": {},
   "source": [
    "\\begin{equation}\n",
    "\\lbrack A \\rbrack = 3 \\times 2 \\quad \\text{Matriz Rectangular} \\\\\n",
    "\\lbrack B \\rbrack = 3 \\times 3 \\quad \\text{Matriz Cuadrada} \\\\\n",
    "\\lbrack C \\rbrack = 3 \\times 1 \\quad \\text{Matriz Columna} \\\\\n",
    "\\lbrack D \\rbrack = 2 \\times 4 \\quad \\text{Matriz Rectangular} \\\\\n",
    "\\lbrack E \\rbrack = 3 \\times 3 \\quad \\text{Matriz Cuadrada} \\\\\n",
    "\\lbrack F \\rbrack = 2 \\times 3 \\quad \\text{Matriz Rectangular} \\\\\n",
    "\\lbrack G \\rbrack = 1 \\times 3 \\quad \\text{Mariz Fila} \n",
    "\\end{equation}\n",
    "\n",
    "\\begin{equation}\n",
    "a_{12} = 7 \\\\\n",
    "b_{23} = 7 \\\\\n",
    "d_{32} = \\text{No existe} \\\\\n",
    "e_{22} = 2 \\\\\n",
    "f_{12} = 0 \\\\\n",
    "g_{12} = 6 \n",
    "\\end{equation}\n",
    "\n",
    "\\begin{equation}\n",
    "E + B = \\left(\n",
    "\\begin{array}{ccc}\n",
    "5 & 8 & 15 \\\\\n",
    "8 & 4 & 10 \\\\\n",
    "5 & 0 & 10\n",
    "\\end{array}\n",
    "\\right)\n",
    "\\end{equation}\n",
    "\n",
    "\\begin{equation}\n",
    "A + F = \\text{Las matrices A y F tienen diferentes dimensiones y no se pueden sumar}\n",
    "\\end{equation}\n",
    "\n",
    "\\begin{equation}\n",
    "B - E = \\left(\n",
    "\\begin{array}{ccc}\n",
    "3 & -2 & -1 \\\\\n",
    "-6 & 0 & 4 \\\\\n",
    "-3 & 0 & -2\n",
    "\\end{array}\n",
    "\\right)\n",
    "\\end{equation}\n",
    "\n",
    "\\begin{equation}\n",
    "7 \\times B = \\left(\n",
    "\\begin{array}{ccc}\n",
    "28 & 21 & 49 \\\\\n",
    "7 & 14 & 49 \\\\\n",
    "7 & 0 & 28\n",
    "\\end{array}\n",
    "\\right)\n",
    "\\end{equation}\n",
    "\n",
    "\\begin{equation}\n",
    "E \\times B = \\left(\n",
    "\\begin{array}{ccc}\n",
    "17 & 13 & 74 \\\\\n",
    "33 & 31 & 75 \\\\\n",
    "22 & 12 & 52\n",
    "\\end{array}\n",
    "\\right)\n",
    "\\end{equation}\n",
    "\n",
    "\\begin{equation}\n",
    "C_{}^{T} = \\left(\n",
    "\\begin{array}{ccc}\n",
    "3 & 6 & 1 \n",
    "\\end{array}\n",
    "\\right)\n",
    "\\end{equation}\n",
    "\n",
    "\\begin{equation}\n",
    "B \\times A = \\left(\n",
    "\\begin{array}{ccc}\n",
    "54 & 76 \\\\\n",
    "41 & 53 \\\\\n",
    "24 & 31 \n",
    "\\end{array}\n",
    "\\right)\n",
    "\\end{equation}\n",
    "\n",
    "\\begin{equation}\n",
    "A \\times C = \\text{Las matrices A y C no son multiplicables porque el numero de columnas de A (2) no coincide con el numero de filas de C (3)}\n",
    "\\end{equation}\n",
    "\n",
    "\\begin{equation}\n",
    "I \\times B = \\left(\n",
    "\\begin{array}{ccc}\n",
    "4 & 3 & 7 \\\\\n",
    "1 & 2 & 7 \\\\\n",
    "1 & 0 & 4\n",
    "\\end{array}\n",
    "\\right)\n",
    "\\end{equation}"
   ]
  },
  {
   "cell_type": "markdown",
   "metadata": {
    "collapsed": true
   },
   "source": [
    "# Ejercicio 9.3"
   ]
  },
  {
   "cell_type": "code",
   "execution_count": null,
   "metadata": {
    "collapsed": true
   },
   "outputs": [],
   "source": []
  },
  {
   "cell_type": "markdown",
   "metadata": {},
   "source": [
    "# Ejercicio 9.4"
   ]
  },
  {
   "cell_type": "code",
   "execution_count": 13,
   "metadata": {
    "collapsed": false
   },
   "outputs": [
    {
     "name": "stdout",
     "output_type": "stream",
     "text": [
      "X = 4 \n",
      "Y = 5\n"
     ]
    }
   ],
   "source": [
    "import pylab as pl\n",
    "\n",
    "Y1 = []\n",
    "Y2 = []\n",
    "X = []\n",
    "\n",
    "def funcion1(x):\n",
    "    y = 0.5*x + 3\n",
    "    return y\n",
    "\n",
    "def funcion2(x):\n",
    "    y = -(x*0.16666667) + 5.6666667\n",
    "    return y\n",
    "\n",
    "for z in xrange(10):\n",
    "    Y1.append(funcion1(z))\n",
    "    Y2.append(funcion2(z))\n",
    "    X.append(z)\n",
    "\n",
    "print (\"X = 4 \\nY = 5\")\n",
    "    \n",
    "pl.grid(True)\n",
    "pl.plot(X, Y1, 'r', label = \"Funcion 1\")\n",
    "pl.plot(X, Y2, 'g', label = \"Funcion 2\")\n",
    "pl.legend(loc='upper right')\n",
    "pl.title(\"Funciones Ejercicio 9.4\")\n",
    "pl.xlabel(\"Iteracion\")\n",
    "pl.ylabel(\"Eje Y\")\n",
    "pl.show()"
   ]
  },
  {
   "cell_type": "markdown",
   "metadata": {},
   "source": [
    "# Ejercicio 9.5"
   ]
  },
  {
   "cell_type": "code",
   "execution_count": 19,
   "metadata": {
    "collapsed": false
   },
   "outputs": [
    {
     "name": "stdout",
     "output_type": "stream",
     "text": [
      "El sistema esta mal condicionado, las pendientes son tan cercanas que es difícil detectar visualmente el punto de intersección\n"
     ]
    }
   ],
   "source": [
    "import pylab as pl\n",
    "\n",
    "Y1 = []\n",
    "Y2 = []\n",
    "X = []\n",
    "\n",
    "def funcion1(x):\n",
    "    y = 12 + (0.11*x) \n",
    "    return y\n",
    "\n",
    "def funcion2(x):\n",
    "    y = 10 + (0.1149*x) \n",
    "    return y\n",
    "\n",
    "for z in xrange(1000):\n",
    "    Y1.append(funcion1(z))\n",
    "    Y2.append(funcion2(z))\n",
    "    X.append(z)\n",
    "    \n",
    "print (\"El sistema esta mal condicionado, las pendientes son tan cercanas que es difícil detectar visualmente el punto de intersección\")\n",
    "    \n",
    "pl.grid(True)\n",
    "pl.plot(X, Y1, 'r', label = \"Funcion 1\")\n",
    "pl.plot(X, Y2, 'g', label = \"Funcion 2\")\n",
    "pl.legend(loc='upper right')\n",
    "pl.title(\"Funciones Ejercicio 9.4\")\n",
    "pl.xlabel(\"Iteracion\")\n",
    "pl.ylabel(\"Eje Y\")\n",
    "pl.show()"
   ]
  },
  {
   "cell_type": "markdown",
   "metadata": {},
   "source": [
    "\\begin{equation}\n",
    "\\text{Primera Ecuacion: } \n",
    "\\ –1.1x_{1} + 10x_{2} = 120 \\\\\n",
    "\\text{Segunda Ecuacion: } \n",
    "\\ –2x_{1} + 17.4x_{2} = 174\n",
    "\\end{equation}\n",
    "\n",
    "\\begin{equation}\n",
    "A = \\left(\n",
    "\\begin{array}{cc}\n",
    "-1.1 & 10 \\\\\n",
    "-2 & 17.4 \n",
    "\\end{array}\n",
    "\\right)\n",
    "\\end{equation}\n",
    "\n",
    "\\begin{equation}\n",
    "Det = (-1.1 \\times 17.4) \\ - \\ (10 \\times -2) \\\\\n",
    "Det = (-19.14) \\ - \\ (-20) \\\\\n",
    "Det = 0.86\n",
    "\\end{equation}"
   ]
  },
  {
   "cell_type": "markdown",
   "metadata": {},
   "source": [
    "# Ejercicio 9.6"
   ]
  },
  {
   "cell_type": "markdown",
   "metadata": {},
   "source": [
    "\\begin{equation}\n",
    "\\text{Primera Ecuacion: } \n",
    "\\ 0x_{1} + 2x_{2} + 5x_{3} = 9 \\\\\n",
    "\\text{Segunda Ecuacion: } \n",
    "\\ 2x_{1} + x_{2} + x_{3} = 9 \\\\\n",
    "\\text{Tercera Ecuacion: } \n",
    "\\ 3x_{1} + x_{2} + 0x_{3} = 10\n",
    "\\end{equation}\n",
    "\n",
    "\\begin{equation}\n",
    "A = \\left(\n",
    "\\begin{array}{ccc|c}\n",
    "0 & 2 & 5 & 9 \\\\\n",
    "2 & 1 & 1 & 9 \\\\\n",
    "3 & 1 & 0 & 10\n",
    "\\end{array}\n",
    "\\right)\n",
    "\\end{equation}\n",
    "\n",
    "\\begin{equation}\n",
    "Det = 0((1 \\times 0) \\ - \\ (1 \\times 1)) \\ - \\ 2((2 \\times 0) \\ - \\ (1 \\times 3)) \\ + \\ 5((2 \\times 1) \\ - \\ (1 \\times 3)) \\\\\n",
    "Det = 6 \\ - \\ 5 \\\\\n",
    "Det = 1\n",
    "\\end{equation}"
   ]
  },
  {
   "cell_type": "markdown",
   "metadata": {},
   "source": [
    "# Ejercicio 9.7"
   ]
  },
  {
   "cell_type": "code",
   "execution_count": 25,
   "metadata": {
    "collapsed": false
   },
   "outputs": [
    {
     "name": "stdout",
     "output_type": "stream",
     "text": [
      "El sistema esta mal condicionado, las pendientes son tan cercanas que es difícil detectar visualmente el punto de intersección\n"
     ]
    }
   ],
   "source": [
    "import pylab as pl\n",
    "\n",
    "Y1 = []\n",
    "Y2 = []\n",
    "X = []\n",
    "\n",
    "def funcion1(x):\n",
    "    y = 0.5*x + 9.5\n",
    "    return y\n",
    "\n",
    "def funcion2(x):\n",
    "    y = 0.51*x + 9.4\n",
    "    return y\n",
    "\n",
    "for z in xrange(30):\n",
    "    Y1.append(funcion1(z))\n",
    "    Y2.append(funcion2(z))\n",
    "    X.append(z)\n",
    "\n",
    "print (\"El sistema esta mal condicionado, las pendientes son tan cercanas que es difícil detectar visualmente el punto de intersección\")\n",
    "    \n",
    "pl.grid(True)\n",
    "pl.plot(X, Y1, 'r', label = \"Funcion 1\")\n",
    "pl.plot(X, Y2, 'g', label = \"Funcion 2\")\n",
    "pl.legend(loc='upper right')\n",
    "pl.title(\"Funciones Ejercicio 9.4\")\n",
    "pl.xlabel(\"Iteracion\")\n",
    "pl.ylabel(\"Eje Y\")\n",
    "pl.show()"
   ]
  },
  {
   "cell_type": "markdown",
   "metadata": {},
   "source": [
    "\\begin{equation}\n",
    "\\text{Primera Ecuacion: } \n",
    "\\ 0.5x_{1} \\ – \\ x_{2} = \\ –9.5 \\\\\n",
    "\\text{Segunda Ecuacion: } \n",
    "\\ 1.02x_{1} \\ – \\ 2x_{2} = \\ –18.8 \n",
    "\\end{equation}"
   ]
  },
  {
   "cell_type": "markdown",
   "metadata": {},
   "source": [
    "# Ejercicio 9.8"
   ]
  },
  {
   "cell_type": "code",
   "execution_count": null,
   "metadata": {
    "collapsed": true
   },
   "outputs": [],
   "source": []
  }
 ],
 "metadata": {
  "kernelspec": {
   "display_name": "Python 2",
   "language": "python",
   "name": "python2"
  },
  "language_info": {
   "codemirror_mode": {
    "name": "ipython",
    "version": 2
   },
   "file_extension": ".py",
   "mimetype": "text/x-python",
   "name": "python",
   "nbconvert_exporter": "python",
   "pygments_lexer": "ipython2",
   "version": "2.7.10"
  }
 },
 "nbformat": 4,
 "nbformat_minor": 0
}
