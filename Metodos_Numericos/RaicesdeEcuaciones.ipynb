{
 "cells": [
  {
   "cell_type": "markdown",
   "metadata": {
    "collapsed": true
   },
   "source": [
    "# Encontrar las raices de dos funciones, una funcion cuadratica y una exponencial y graficar los resultados"
   ]
  },
  {
   "cell_type": "code",
   "execution_count": 2,
   "metadata": {
    "collapsed": false
   },
   "outputs": [
    {
     "name": "stdout",
     "output_type": "stream",
     "text": [
      "   i   xi\n",
      "   0   1   \n",
      "   1   2   \n",
      "   2   3   \n",
      "   3   6   \n",
      "   4   19   \n",
      "   5   182   \n",
      "   6   16563   \n",
      "   7   137166486   \n",
      "   8   9407322440794099   \n",
      "   9   44248857752534122142596856610902   \n",
      "   10   978980706201999541462104411289749538825963955699072710712626803   \n",
      "\n",
      "\n",
      "i\tyi\t\tEa\t\tEt\n",
      "0\t1.0000\t\t100.0000\t\t76.3223\n",
      "1\t0.3679\t\t171.8282\t\t35.1347\n",
      "2\t0.6922\t\t46.8536\t\t22.0504\n",
      "3\t0.5005\t\t38.3091\t\t11.7554\n",
      "4\t0.6062\t\t17.4468\t\t6.8942\n",
      "5\t0.5454\t\t11.1566\t\t3.8346\n",
      "6\t0.5796\t\t5.9034\t\t2.1986\n",
      "7\t0.5601\t\t3.4809\t\t1.2392\n",
      "8\t0.5711\t\t1.9308\t\t0.7053\n",
      "9\t0.5649\t\t1.1089\t\t0.3992\n",
      "10\t0.5684\t\t0.6244\t\t0.2267\n"
     ]
    }
   ],
   "source": [
    "import math\n",
    "import pylab as pl\n",
    "\n",
    "i = 0\n",
    "xa = []\n",
    "ya = []\n",
    "func1 = []\n",
    "func2 = []\n",
    "\n",
    "def funcion1(i):\n",
    "    print(\"   i   xi\")\n",
    "    xi = 0\n",
    "    while i <= 10:\n",
    "        xis = (3 + (xi**2))/2\n",
    "        xreal = (((i**2)-2*i)+3)\n",
    "        xa.append(i)\n",
    "        func1.append(xreal)\n",
    "        print(\"   %d   %d   \") % (i, xis)\n",
    "        i = i + 1\n",
    "        xi = xis\n",
    "    pl.plot(xa, func1)\n",
    "    pl.title(\"f(x) = x**2-2x+3\")\n",
    "    pl.xlabel(\"Iteraciones\")\n",
    "    pl.ylabel(\"Funcion Cuadratica\")\n",
    "    pl.grid(True)\n",
    "    pl.show()\n",
    "\n",
    "def funcion2(i):\n",
    "    print(\"\\n\")\n",
    "    print(\"i\\tyi\\t\\tEa\\t\\tEt\")\n",
    "    yi = 0\n",
    "    i = 0\n",
    "    while i <= 10:\n",
    "        yis = (math.exp(-yi))\n",
    "        yreal = ((math.exp(-i))-i)\n",
    "        ya.append(i)\n",
    "        func2.append(yreal)\n",
    "        errorA = abs(((yis - yi)/yis)*100)\n",
    "        errorT = abs(((0.56714329 - yis)/0.56714329)*100)\n",
    "        print(\"%d\\t%.4f\\t\\t%.4f\\t\\t%.4f\") % (i, yis, errorA, errorT)\n",
    "        i = i + 1\n",
    "        yi = yis\n",
    "    pl.plot(ya, func2, label = \"Funcion\", color = \"g\")\n",
    "    pl.title(\"f(y) = (math.exp(-y))-y\")\n",
    "    pl.xlabel(\"Iteraciones\")\n",
    "    pl.ylabel(\"Funcion Exponencial\")\n",
    "    pl.legend(loc = \"upper right\")\n",
    "    pl.grid(True)\n",
    "    pl.show()\n",
    "        \n",
    "funcion1(i)\n",
    "funcion2(i)"
   ]
  },
  {
   "cell_type": "code",
   "execution_count": null,
   "metadata": {
    "collapsed": true
   },
   "outputs": [],
   "source": []
  }
 ],
 "metadata": {
  "kernelspec": {
   "display_name": "Python 2",
   "language": "python",
   "name": "python2"
  },
  "language_info": {
   "codemirror_mode": {
    "name": "ipython",
    "version": 2
   },
   "file_extension": ".py",
   "mimetype": "text/x-python",
   "name": "python",
   "nbconvert_exporter": "python",
   "pygments_lexer": "ipython2",
   "version": "2.7.10"
  }
 },
 "nbformat": 4,
 "nbformat_minor": 0
}
