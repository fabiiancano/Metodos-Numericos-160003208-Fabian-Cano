{
 "cells": [
  {
   "cell_type": "markdown",
   "metadata": {},
   "source": [
    "# Regresion por minimos cuadrados "
   ]
  },
  {
   "cell_type": "code",
   "execution_count": 4,
   "metadata": {
    "collapsed": false
   },
   "outputs": [
    {
     "name": "stdout",
     "output_type": "stream",
     "text": [
      "2 210.000000\n",
      "3 408.000000\n",
      "El promedio de edades es: 20.40\n",
      "La varianza de las edades es: 1.936842\n",
      "La desviacion estandar de las edades es: 1.391705\n",
      "1 4303.000000\n",
      "El coeficiente A1 es: 0.028571\n",
      "El coeficiente A0 es: 20.100000\n"
     ]
    }
   ],
   "source": [
    "import math\n",
    "import pylab as pl\n",
    "\n",
    "X = [1,2,3,4,5,6,7,8,9,10,11,12,13,14,15,16,17,18,19,20]\n",
    "Y = [19.0,19.0,23.0,21.0,21.0,21.0,19.0,18.0,20.0,22.0,22.0,21.0,19.0,19.0,20.0,20.0,20.0,21.0,20.0,23.0]\n",
    "n = 20\n",
    "L = []\n",
    "sumx = 0.0\n",
    "sumy = 0.0\n",
    "cuax = 0.0\n",
    "cuay = 0.0\n",
    "\n",
    "for i in range(n):\n",
    "    sumx = sumx + X[i]\n",
    "    cuax = cuax + (X[i]**2)\n",
    "    \n",
    "print (\"2 %f\") % sumx\n",
    "    \n",
    "for j in range(n):\n",
    "    sumy = sumy + Y[j]\n",
    "    cuay = cuay + (Y[j]**2)\n",
    "\n",
    "print (\"3 %f\") % sumy    \n",
    "    \n",
    "def Suma():\n",
    "    suma = 0.0\n",
    "    aux = 0.0\n",
    "    for i in range(n):\n",
    "        aux = X[i]*Y[i]\n",
    "        suma = suma + aux\n",
    "    return suma\n",
    "\n",
    "def Mediay():\n",
    "    y = 0.0\n",
    "    aux = 0.0\n",
    "    suma = 0.0\n",
    "    for i in range(n):\n",
    "        aux = Y[i]\n",
    "        suma = suma + aux\n",
    "    y = suma/n\n",
    "    return y\n",
    "\n",
    "def Mediax():\n",
    "    x = 0.0\n",
    "    aux = 0.0\n",
    "    suma = 0.0\n",
    "    for i in range(n):\n",
    "        aux = X[i]\n",
    "        suma = suma + aux\n",
    "    x = suma/n\n",
    "    return x\n",
    "\n",
    "def DEstandar():\n",
    "    suma = 0.0\n",
    "    exp = 0.0\n",
    "    var = 0.0\n",
    "    dEst = 0.0\n",
    "    m = Mediay()\n",
    "    for i in range(n):\n",
    "        aux = Y[i] - m\n",
    "        exp = aux**2\n",
    "        suma = suma + exp    \n",
    "    var = suma/(n-1)\n",
    "    dEst = abs(var**0.5)\n",
    "    print (\"El promedio de edades es: %.2f\") % m\n",
    "    print (\"La varianza de las edades es: %.6f\") % var\n",
    "    print (\"La desviacion estandar de las edades es: %.6f\") % dEst\n",
    "    \n",
    "def Regresion():\n",
    "    suma = 0.0\n",
    "    suma = Suma()\n",
    "    print (\"1 %f\") % suma\n",
    "    a1 = ((n*suma) - (sumx*sumy))/((n*cuax) - (sumx**2))\n",
    "    a0 = Mediay() - (a1*Mediax())\n",
    "    print (\"El coeficiente A1 es: %.6f\") % a1\n",
    "    print (\"El coeficiente A0 es: %.6f\") % a0\n",
    "    for i in range(20):\n",
    "        y = a0 + a1*i\n",
    "        L.append(y)\n",
    "    \n",
    "DEstandar()\n",
    "Regresion()\n",
    "\n",
    "pl.plot(X, Y, 'o', label = \"Edades\")\n",
    "pl.plot(X, L, label = \"Regresion Lineal\")\n",
    "pl.legend(loc = \"lower right\")\n",
    "pl.title(\"Ajuste de Curvas\")\n",
    "pl.xlabel(\"Estudiante\")\n",
    "pl.ylabel(\"Edad\")\n",
    "pl.grid(True)\n",
    "pl.show()"
   ]
  },
  {
   "cell_type": "code",
   "execution_count": null,
   "metadata": {
    "collapsed": true
   },
   "outputs": [],
   "source": []
  }
 ],
 "metadata": {
  "kernelspec": {
   "display_name": "Python 2",
   "language": "python",
   "name": "python2"
  },
  "language_info": {
   "codemirror_mode": {
    "name": "ipython",
    "version": 2
   },
   "file_extension": ".py",
   "mimetype": "text/x-python",
   "name": "python",
   "nbconvert_exporter": "python",
   "pygments_lexer": "ipython2",
   "version": "2.7.10"
  }
 },
 "nbformat": 4,
 "nbformat_minor": 0
}
